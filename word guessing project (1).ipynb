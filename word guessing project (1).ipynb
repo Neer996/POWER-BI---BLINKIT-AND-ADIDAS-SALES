{
 "cells": [
  {
   "cell_type": "markdown",
   "id": "a4d35cec-9a69-4863-b5da-03a95b300a68",
   "metadata": {},
   "source": [
    "# Word Guessing Game"
   ]
  },
  {
   "cell_type": "code",
   "execution_count": 1,
   "id": "d299f4d9-3a18-43b2-ba63-a22b3be51e4c",
   "metadata": {},
   "outputs": [],
   "source": [
    "import random"
   ]
  },
  {
   "cell_type": "code",
   "execution_count": 3,
   "id": "7590907e-0bfd-4d65-b830-b46e5e398123",
   "metadata": {},
   "outputs": [
    {
     "name": "stdin",
     "output_type": "stream",
     "text": [
      "What is your name? neeraj kumar\n"
     ]
    },
    {
     "name": "stdout",
     "output_type": "stream",
     "text": [
      "Good Luck! neeraj kumar\n",
      "Guess the characters\n",
      "_\n",
      "_\n",
      "_\n",
      "_\n",
      "_\n",
      "\n"
     ]
    },
    {
     "name": "stdin",
     "output_type": "stream",
     "text": [
      "Guess a character: g\n"
     ]
    },
    {
     "name": "stdout",
     "output_type": "stream",
     "text": [
      "g _\n",
      "_\n",
      "_\n",
      "_\n",
      "\n"
     ]
    },
    {
     "name": "stdin",
     "output_type": "stream",
     "text": [
      "Guess a character: e\n"
     ]
    },
    {
     "name": "stdout",
     "output_type": "stream",
     "text": [
      "g e e _\n",
      "_\n",
      "\n"
     ]
    },
    {
     "name": "stdin",
     "output_type": "stream",
     "text": [
      "Guess a character: k\n"
     ]
    },
    {
     "name": "stdout",
     "output_type": "stream",
     "text": [
      "g e e k _\n",
      "\n"
     ]
    },
    {
     "name": "stdin",
     "output_type": "stream",
     "text": [
      "Guess a character: s\n"
     ]
    },
    {
     "name": "stdout",
     "output_type": "stream",
     "text": [
      "g e e k s You Win\n",
      "The word is: geeks\n"
     ]
    }
   ],
   "source": [
    "name=input(\"What is your name?\")\n",
    "print(\"Good Luck!\",name)\n",
    "words=['rainbow', 'computer', 'science', 'programming', 'python', 'mathematics', 'player', 'condition',\n",
    "       'reverse', 'water', 'board', 'geeks']\n",
    "word=random.choice(words)\n",
    "print(\"Guess the characters\")\n",
    "guesses=''\n",
    "turns=11\n",
    "while turns>0:\n",
    "    failed=0\n",
    "    for char in word:\n",
    "        if char in guesses:\n",
    "            print(char,end=\" \")\n",
    "        else:\n",
    "            print(\"_\")\n",
    "            failed+=1\n",
    "    if failed==0:\n",
    "        print(\"You Win\")\n",
    "        print(\"The word is:\",word)\n",
    "        break\n",
    "    print()\n",
    "    guess=input(\"Guess a character:\")\n",
    "    guesses+=guess\n",
    "    if guess not in word:\n",
    "        turns -=1\n",
    "        print(\"Wrong\")\n",
    "        print(\"You have\",+ turns, \"more guesses\")\n",
    "        if turns==0:\n",
    "            print(\"You Loose\")"
   ]
  },
  {
   "cell_type": "code",
   "execution_count": null,
   "id": "9f2d64b6-c802-478f-b763-5354c478a85e",
   "metadata": {},
   "outputs": [],
   "source": []
  },
  {
   "cell_type": "code",
   "execution_count": null,
   "id": "69abd5ef-ba35-49af-8028-84ea0ce9e47b",
   "metadata": {},
   "outputs": [],
   "source": []
  }
 ],
 "metadata": {
  "kernelspec": {
   "display_name": "Python 3 (ipykernel)",
   "language": "python",
   "name": "python3"
  },
  "language_info": {
   "codemirror_mode": {
    "name": "ipython",
    "version": 3
   },
   "file_extension": ".py",
   "mimetype": "text/x-python",
   "name": "python",
   "nbconvert_exporter": "python",
   "pygments_lexer": "ipython3",
   "version": "3.12.4"
  }
 },
 "nbformat": 4,
 "nbformat_minor": 5
}
